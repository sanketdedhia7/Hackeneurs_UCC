{
 "cells": [
  {
   "cell_type": "code",
   "execution_count": null,
   "metadata": {},
   "outputs": [],
   "source": [
    "import pandas as pd\n",
    "import numpy as np\n",
    "import matplotlib.pyplot as plt\n",
    "import seaborn as sns\n",
    "%matplotlib inline\n",
    "color = sns.color_palette()"
   ]
  },
  {
   "cell_type": "code",
   "execution_count": null,
   "metadata": {},
   "outputs": [],
   "source": [
    "df = pd.read_csv('./Datasets/bitcoin_price.csv', index_col=['Date'],parse_dates=True,usecols=['Date','Close'])"
   ]
  },
  {
   "cell_type": "code",
   "execution_count": null,
   "metadata": {},
   "outputs": [],
   "source": [
    "df.head()"
   ]
  },
  {
   "cell_type": "code",
   "execution_count": null,
   "metadata": {},
   "outputs": [],
   "source": [
    "df = df.iloc[::-1]"
   ]
  },
  {
   "cell_type": "code",
   "execution_count": null,
   "metadata": {},
   "outputs": [],
   "source": [
    "df.plot()"
   ]
  },
  {
   "cell_type": "code",
   "execution_count": null,
   "metadata": {},
   "outputs": [],
   "source": [
    "from fbprophet import Prophet"
   ]
  },
  {
   "cell_type": "code",
   "execution_count": null,
   "metadata": {},
   "outputs": [],
   "source": [
    "ml_df = df.reset_index().rename(columns={'Date':'ds', 'Close':'y'})\n",
    "ml_df['y'] = np.log(ml_df['y'])\n",
    "model = Prophet()\n",
    "model.fit(ml_df);\n",
    "future = model.make_future_dataframe(periods=365)\n",
    "forecast = model.predict(future)"
   ]
  },
  {
   "cell_type": "code",
   "execution_count": null,
   "metadata": {},
   "outputs": [],
   "source": [
    "figure=model.plot(forecast)"
   ]
  },
  {
   "cell_type": "code",
   "execution_count": null,
   "metadata": {},
   "outputs": [],
   "source": [
    "two_years = forecast.set_index('ds').join(df)\n",
    "two_years = two_years[['Close', 'yhat', 'yhat_upper', 'yhat_lower' ]].dropna().tail(800)\n",
    "two_years['yhat']=np.exp(two_years.yhat)\n",
    "two_years['yhat_upper']=np.exp(two_years.yhat_upper)\n",
    "two_years['yhat_lower']=np.exp(two_years.yhat_lower)\n",
    "two_years[['Close', 'yhat']].plot()"
   ]
  },
  {
   "cell_type": "code",
   "execution_count": null,
   "metadata": {},
   "outputs": [],
   "source": [
    "two_years_AE = (two_years.yhat - two_years.Close)\n",
    "two_years_AE.describe()"
   ]
  },
  {
   "cell_type": "code",
   "execution_count": null,
   "metadata": {},
   "outputs": [],
   "source": [
    "from sklearn.metrics import *\n",
    "\n",
    "mean_squared_error(two_years.Close, two_years.yhat)"
   ]
  },
  {
   "cell_type": "code",
   "execution_count": null,
   "metadata": {},
   "outputs": [],
   "source": [
    "mean_absolute_error(two_years.Close, two_years.yhat)"
   ]
  },
  {
   "cell_type": "code",
   "execution_count": null,
   "metadata": {},
   "outputs": [],
   "source": [
    "r2_score(two_years.Close, two_years.yhat)"
   ]
  },
  {
   "cell_type": "code",
   "execution_count": null,
   "metadata": {},
   "outputs": [],
   "source": [
    "fig, ax1 = plt.subplots()\n",
    "ax1.plot(two_years.Close)\n",
    "ax1.plot(two_years.yhat)\n",
    "ax1.plot(two_years.yhat_upper, color='black',  linestyle=':', alpha=0.5)\n",
    "ax1.plot(two_years.yhat_lower, color='black',  linestyle=':', alpha=0.5)\n",
    " \n",
    "ax1.set_title('Actual (Blue) vs Forecasted Upper & Lower Confidence (Black)')\n",
    "ax1.set_ylabel('Price')\n",
    "ax1.set_xlabel('Date')"
   ]
  },
  {
   "cell_type": "code",
   "execution_count": null,
   "metadata": {},
   "outputs": [],
   "source": [
    "full_df = forecast.set_index('ds').join(df)\n",
    "full_df['yhat']=np.exp(full_df['yhat'])\n",
    " \n",
    "fig, ax1 = plt.subplots()\n",
    "ax1.plot(full_df.Close)\n",
    "ax1.plot(full_df.yhat, color='black', linestyle=':')\n",
    "ax1.fill_between(full_df.index, np.exp(full_df['yhat_upper']), np.exp(full_df['yhat_lower']), alpha=0.5, color='darkgray')\n",
    "ax1.set_title('Actual vs Forecasted with Confidence Bands')\n",
    "ax1.set_ylabel('Price')\n",
    "ax1.set_xlabel('Date')\n",
    " \n",
    "L=ax1.legend() #get the legend\n",
    "L.get_texts()[0].set_text('Actual') #change the legend text for 1st plot\n",
    "L.get_texts()[1].set_text('Forecasted') #change the legend text for 2nd plot"
   ]
  },
  {
   "cell_type": "code",
   "execution_count": null,
   "metadata": {},
   "outputs": [],
   "source": []
  },
  {
   "cell_type": "code",
   "execution_count": null,
   "metadata": {},
   "outputs": [],
   "source": []
  },
  {
   "cell_type": "code",
   "execution_count": null,
   "metadata": {},
   "outputs": [],
   "source": []
  },
  {
   "cell_type": "code",
   "execution_count": null,
   "metadata": {},
   "outputs": [],
   "source": []
  }
 ],
 "metadata": {
  "kernelspec": {
   "display_name": "Python 3",
   "language": "python",
   "name": "python3"
  },
  "language_info": {
   "codemirror_mode": {
    "name": "ipython",
    "version": 3
   },
   "file_extension": ".py",
   "mimetype": "text/x-python",
   "name": "python",
   "nbconvert_exporter": "python",
   "pygments_lexer": "ipython3",
   "version": "3.6.3"
  }
 },
 "nbformat": 4,
 "nbformat_minor": 2
}
